{
 "cells": [
  {
   "cell_type": "code",
   "execution_count": null,
   "id": "7a38eb29-9633-4e51-9a1d-49ca46ed512c",
   "metadata": {},
   "outputs": [],
   "source": [
    "# tram example\n",
    "# Source : Markov Decision Processes 1 - Value | Standford CS221"
   ]
  },
  {
   "cell_type": "code",
   "execution_count": 7,
   "id": "bfe27282-2323-429d-b65d-63f5d0244537",
   "metadata": {},
   "outputs": [
    {
     "name": "stdout",
     "output_type": "stream",
     "text": [
      "['walk', 'tram']\n",
      "[(4, 1.0, -1.0)]\n",
      "[(6, 0.5, -2.0), (3, 0.5, -2.0)]\n"
     ]
    }
   ],
   "source": [
    "### Model (search problem)\n",
    "import sys\n",
    "sys.setrecursionlimit(10000)\n",
    "\n",
    "class TransportantionMDP(object):\n",
    "    def __init__(self, N):\n",
    "        # N = number of blocks\n",
    "        self.N = N\n",
    "    def startState(self):\n",
    "        return 1\n",
    "    def isEnd(self, state):\n",
    "        return state == self.N\n",
    "    def actions(self, state):\n",
    "        result = []\n",
    "        if state+1<=self.N:\n",
    "            result.append('walk')\n",
    "        if state*2<=self.N:\n",
    "            result.append('tram')\n",
    "        return result\n",
    "    def succProbReward(self, state, action):\n",
    "        # return list of (newState, prob, reward) triples\n",
    "        # state = s, action = a, newStage = s'\n",
    "        # prob = T(s, a, s'), reward = Reward(s, a, s')\n",
    "        result = []\n",
    "        if action=='walk':\n",
    "            result.append((state+1, 1., -1.))\n",
    "        elif action=='tram':\n",
    "            result.append((state*2, 0.5, -2.))\n",
    "            result.append((state, 0.5, -2.))\n",
    "        return result\n",
    "    def discount(self):\n",
    "        return 1.\n",
    "    def states(self):\n",
    "        return range(1, self.N+1)\n",
    "\n",
    "    \n",
    " \n",
    "\n",
    "mdp = TransportantionMDP(N=10)\n",
    "#print(mdp.actions(3))\n",
    "#print(mdp.succProbReward(3, 'walk'))\n",
    "#print(mdp.succProbReward(3, 'tram'))\n",
    "\n",
    "\n",
    "def valueIteration(mdp):\n",
    "    # initialize\n",
    "    V = {} # State -> Vopt[State]\n",
    "    for state in mdp.states():\n",
    "        V[state] = 0.\n",
    "    \n",
    "    def Q(state, action):\n",
    "        return sum( prob*(reward + mdp.discount()*V[newState])\\\n",
    "                for newState, prob, reward in mdp.succProbReward(state, action)\n",
    "        )\n",
    "    \n",
    "    while True:\n",
    "        # compute the new values given the old values (V)\n",
    "        newV = {}\n",
    "        for state in mdp.states():\n",
    "            if mdp.isEnd(state):\n",
    "                newV[state] = 0.\n",
    "            else:\n",
    "                newV[state] = max(Q(state, action) for action in mdp.actions(state))\n",
    "                \n",
    "            # check for convergence\n",
    "            if max(abs(V[state] - newV[state]) for state in mdp.states()) < 1e-10:\n",
    "                break\n",
    "            V = newV\n",
    "            \n",
    "            # read for policy\n",
    "            pi = {}\n",
    "            for state in mdp.states():\n",
    "                if mdp.isEnd[state]:\n",
    "                    pi[state] = 'none'\n",
    "                else:\n",
    "                    pi[state] = max( Q(state, action), action for action in mdp.actions(state))[1]\n",
    "                \n",
    "                # print stuff out\n",
    "                os.system('clear')\n",
    "                print('{:15} {:15} {:15}'.format('s', 'V(s)', 'pi(s)'))\n",
    "                for state in mdp.states():\n",
    "                    print('{:15} {:15} {:15}'.format(state, V[state], pi[state]))\n",
    "                input()"
   ]
  },
  {
   "cell_type": "code",
   "execution_count": null,
   "id": "824642e6-6b4f-42a4-82ad-e44e2bea233a",
   "metadata": {},
   "outputs": [],
   "source": []
  }
 ],
 "metadata": {
  "kernelspec": {
   "display_name": "Python 3 (ipykernel)",
   "language": "python",
   "name": "python3"
  },
  "language_info": {
   "codemirror_mode": {
    "name": "ipython",
    "version": 3
   },
   "file_extension": ".py",
   "mimetype": "text/x-python",
   "name": "python",
   "nbconvert_exporter": "python",
   "pygments_lexer": "ipython3",
   "version": "3.8.10"
  }
 },
 "nbformat": 4,
 "nbformat_minor": 5
}
